# Automated audio transcription using openai/whisper

Edgar Bermudez

November, 2022
